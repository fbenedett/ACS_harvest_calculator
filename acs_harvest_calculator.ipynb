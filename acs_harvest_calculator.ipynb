{
 "cells": [
  {
   "cell_type": "code",
   "execution_count": 1,
   "id": "surgical-orange",
   "metadata": {},
   "outputs": [],
   "source": [
    "import matplotlib.pyplot as plt\n",
    "import pandas as pd"
   ]
  },
  {
   "cell_type": "code",
   "execution_count": 10,
   "id": "extraordinary-extra",
   "metadata": {},
   "outputs": [],
   "source": [
    "capital=3473 # capital in $ of your FARM VAULT\n",
    "farm_apr_daily=0.0113  ## write the number you see in \"Farm Daily:\" in your FARM VAULT.  The script take care of the %\n",
    "farm_apr_daily=farm_apr_daily/100\n",
    "acs_vault_daily=0.101  ## write the number you see in \"Farm Daily:\" in your ACS VAULT.  The script take care of the %\n",
    "acs_vault_daily=acs_vault_daily/100 \n",
    "acs_value=8.6 ## value of a ACS token in $\n",
    "acs_fee=0.03 #harvesting fee\n",
    "period=365 ## I consider a period of one year"
   ]
  },
  {
   "cell_type": "code",
   "execution_count": 11,
   "id": "polyphonic-booking",
   "metadata": {},
   "outputs": [],
   "source": [
    "### first we find after how many days we have a FARM worth to be harvested since there is a 0.03 fee\n",
    "min_day=1\n",
    "for days in range(100):\n",
    "  est_base=  (capital*farm_apr_daily*days)/acs_value\n",
    "  if(est_base>acs_fee):\n",
    "    min_day=days\n",
    "    break\n",
    "\n",
    "## in res_df we store the results for all the compounding interval we will compute\n",
    "res_df=pd.DataFrame()\n",
    "## \"comp_intervals\" is a list that represent the intervals we want to simulate, in days, between harvesting events\n",
    "## if we farm every 2 days what wold be the total ACS token in the vault?\n",
    "## if we farm every 3 days what would be .... \n",
    "## if we farm every 4 days...\n",
    "comp_intervals=range(min_day,period,1)\n",
    "\n",
    "for days_interval in comp_intervals:\n",
    "  ## in a \"period\" there are a certain number of compounding events\n",
    "  ## imagine we are testing an harvesting event every 30 days, in a year there woud be 12 events\n",
    "  ## 30, 60, 90.... until 360\n",
    "  aseq=range(days_interval, period, days_interval)\n",
    "\n",
    "  ##  the interest give by the FARM vault is \"capital*days_in_the_vault*farm_apr_daily\"\n",
    "  ## if we want to find the number of acs tokens we have to divide by acs_value and subtract the harvesting fee\n",
    "  harvest_val= (capital*days_interval*farm_apr_daily)/acs_value -acs_fee\n",
    "  \n",
    "  acs_vault=0\n",
    "\n",
    "  for i in aseq:\n",
    "    ## first we compute the interest we obtained in the ACS vault\n",
    "    for j in range(1,days_interval,1):\n",
    "      acs_interest=acs_vault*acs_vault_daily\n",
    "      acs_vault=acs_vault+acs_interest\n",
    "    \n",
    "    \n",
    "    ## then we add the farmed ACS, to the ACS vault\n",
    "    acs_vault=acs_vault+harvest_val\n",
    "  \n",
    "  \n",
    "  ## there may be additional days before the end of the period\n",
    "  ## as before, if we have a compounding event every 30 days, and we consider\n",
    "  ## a period of 365 days, there are 5 days that are not considered. We need to take\n",
    "  ## them into consideration\n",
    "  harvest_val=capital*(period-max(aseq))*farm_apr_daily/acs_value\n",
    "  for j in range(max(aseq),period,1):\n",
    "    acs_interest=acs_vault*acs_vault_daily\n",
    "    acs_vault=acs_vault+acs_interest\n",
    "  \n",
    "  acs_vault=acs_vault+acs_interest+harvest_val\n",
    "  \n",
    "  adf=pd.DataFrame([{\"comp_days\":days_interval, \"farm_acs\":acs_vault, \"harvest_val\":harvest_val}])\n",
    "    \n",
    "  res_df=pd.concat([res_df, adf], ignore_index=True)\n",
    "\n",
    "\n",
    "best_comp_day=res_df.loc[res_df.farm_acs == res_df.farm_acs.max(), 'comp_days']\n",
    "best_farm_val=res_df.loc[res_df.farm_acs == res_df.farm_acs.max(), 'harvest_val']\n",
    "best_vault_val=res_df.loc[res_df.farm_acs == res_df.farm_acs.max(), 'farm_acs']\n",
    "a_text=\"Harvest at:\"+str(best_comp_day.item())+ \" every \"+  str(round(best_farm_val.item(),2)) +\" ACS\""
   ]
  },
  {
   "cell_type": "code",
   "execution_count": 12,
   "id": "executed-mattress",
   "metadata": {},
   "outputs": [
    {
     "data": {
      "text/plain": [
       "Text(0.5, 1.0, 'Harvest at:41 every 1.69 ACS')"
      ]
     },
     "execution_count": 12,
     "metadata": {},
     "output_type": "execute_result"
    },
    {
     "data": {
      "image/png": "[encoded data removed]",
      "text/plain": [
       "<Figure size 432x288 with 1 Axes>"
      ]
     },
     "metadata": {
      "needs_background": "light"
     },
     "output_type": "display_data"
    }
   ],
   "source": [
    "\n",
    "plt.plot(res_df[\"comp_days\"], res_df[\"farm_acs\"])\n",
    "plt.scatter(best_comp_day, best_vault_val, color=\"red\" )\n",
    "plt.title(a_text)"
   ]
  }
 ],
 "metadata": {
  "kernelspec": {
   "display_name": "Python 3",
   "language": "python",
   "name": "python3"
  },
  "language_info": {
   "codemirror_mode": {
    "name": "ipython",
    "version": 3
   },
   "file_extension": ".py",
   "mimetype": "text/x-python",
   "name": "python",
   "nbconvert_exporter": "python",
   "pygments_lexer": "ipython3",
   "version": "3.8.10"
  }
 },
 "nbformat": 4,
 "nbformat_minor": 5
}
